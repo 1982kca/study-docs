{
  "nbformat": 4,
  "nbformat_minor": 0,
  "metadata": {
    "colab": {
      "name": "DA 스터디 실습.ipynb",
      "provenance": [],
      "collapsed_sections": [],
      "toc_visible": true
    },
    "kernelspec": {
      "name": "python3",
      "display_name": "Python 3"
    },
    "language_info": {
      "name": "python"
    }
  },
  "cells": [
    {
      "cell_type": "markdown",
      "metadata": {
        "id": "2pLLl4z_J5RC"
      },
      "source": [
        "# DA 스터디 실습 02강\n"
      ]
    },
    {
      "cell_type": "markdown",
      "metadata": {
        "id": "yElvJwiKOM-4"
      },
      "source": [
        "## Colab의 기본 정보들을 알아보자!"
      ]
    },
    {
      "cell_type": "code",
      "metadata": {
        "id": "GmJQ06WmJ2KN"
      },
      "source": [
        "!pip show pandas\n",
        "#pip install pandas"
      ],
      "execution_count": null,
      "outputs": []
    },
    {
      "cell_type": "code",
      "metadata": {
        "id": "rsPkMXIrJ4ro"
      },
      "source": [
        "!pip show numpy\n",
        "#pip install numpy"
      ],
      "execution_count": null,
      "outputs": []
    },
    {
      "cell_type": "code",
      "metadata": {
        "id": "ICtyciCRKWLN"
      },
      "source": [
        "!pip show matplotlib \n",
        "#pip install matplotlib"
      ],
      "execution_count": null,
      "outputs": []
    },
    {
      "cell_type": "code",
      "metadata": {
        "id": "Tt7yMNzfLI00"
      },
      "source": [
        "#기본 설치된 python 모듈들 확인\n",
        "!pip list"
      ],
      "execution_count": null,
      "outputs": []
    },
    {
      "cell_type": "code",
      "metadata": {
        "id": "PVru-ufELae9"
      },
      "source": [
        "#platform\n",
        "import platform\n",
        "print(platform.platform())\n",
        "\n",
        "#OS\n",
        "!cat /etc/issue.net\n",
        "\n",
        "#CPU\n",
        "!cat /proc/cpuinfo\n",
        "\n",
        "#Memory\n",
        "!cat /proc/meminfo\n",
        "\n",
        "#storage\n",
        "!df -h\n",
        "\n",
        "\n",
        "#python version\n",
        "!python --version"
      ],
      "execution_count": null,
      "outputs": []
    },
    {
      "cell_type": "markdown",
      "metadata": {
        "id": "06fmUV3wN5LF"
      },
      "source": [
        "## 라이브러리(패키지)와 모듈을 추가해보자!!\n",
        "\n",
        "Pandas, Numpy, Matplotlib 모두 패키지이다."
      ]
    },
    {
      "cell_type": "code",
      "metadata": {
        "colab": {
          "base_uri": "https://localhost:8080/"
        },
        "id": "BNBB3a3eL3G8",
        "outputId": "549d3220-7ec6-4285-b5fd-2d9c5daabb78"
      },
      "source": [
        "### 모듈 (math)\n",
        "import math\n",
        "\n",
        "print(math.pi)\n",
        "print(math.sqrt(2))"
      ],
      "execution_count": null,
      "outputs": [
        {
          "output_type": "stream",
          "name": "stdout",
          "text": [
            "3.141592653589793\n",
            "1.4142135623730951\n"
          ]
        }
      ]
    },
    {
      "cell_type": "code",
      "metadata": {
        "colab": {
          "base_uri": "https://localhost:8080/"
        },
        "id": "E2auwXrWOLHw",
        "outputId": "dd283f5f-6fee-4a4f-bb70-f952040396a5"
      },
      "source": [
        "### import ~~ as 로 모듈이 쓰일 이름 지정 가능하다!\n",
        "import math as abc\n",
        "\n",
        "print(abc.pi)\n",
        "print(abc.sqrt(25))"
      ],
      "execution_count": null,
      "outputs": [
        {
          "output_type": "stream",
          "name": "stdout",
          "text": [
            "3.141592653589793\n",
            "5.0\n"
          ]
        }
      ]
    },
    {
      "cell_type": "code",
      "metadata": {
        "colab": {
          "base_uri": "https://localhost:8080/",
          "height": 226
        },
        "id": "-A0IQx7lOokw",
        "outputId": "3f4b25f7-0fcd-4e44-dda8-532d76c6ba44"
      },
      "source": [
        "### from ~ import 로 모듈에서 특정 클래스/함수/변수 만 가져올 수 있다.\n",
        "from math import pi\n",
        "print(pi)\n",
        "\n",
        "# 런타임 초기화(변수, import 등 초기화) 하고 실행하면, 오류가 뜬다!\n",
        "print(math.pi)"
      ],
      "execution_count": null,
      "outputs": [
        {
          "output_type": "stream",
          "name": "stdout",
          "text": [
            "3.141592653589793\n"
          ]
        },
        {
          "output_type": "error",
          "ename": "NameError",
          "evalue": "ignored",
          "traceback": [
            "\u001b[0;31m---------------------------------------------------------------------------\u001b[0m",
            "\u001b[0;31mNameError\u001b[0m                                 Traceback (most recent call last)",
            "\u001b[0;32m<ipython-input-1-888e2d24efe8>\u001b[0m in \u001b[0;36m<module>\u001b[0;34m()\u001b[0m\n\u001b[1;32m      2\u001b[0m \u001b[0;32mfrom\u001b[0m \u001b[0mmath\u001b[0m \u001b[0;32mimport\u001b[0m \u001b[0mpi\u001b[0m\u001b[0;34m\u001b[0m\u001b[0;34m\u001b[0m\u001b[0m\n\u001b[1;32m      3\u001b[0m \u001b[0mprint\u001b[0m\u001b[0;34m(\u001b[0m\u001b[0mpi\u001b[0m\u001b[0;34m)\u001b[0m\u001b[0;34m\u001b[0m\u001b[0;34m\u001b[0m\u001b[0m\n\u001b[0;32m----> 4\u001b[0;31m \u001b[0mprint\u001b[0m\u001b[0;34m(\u001b[0m\u001b[0mmath\u001b[0m\u001b[0;34m.\u001b[0m\u001b[0mpi\u001b[0m\u001b[0;34m)\u001b[0m\u001b[0;34m\u001b[0m\u001b[0;34m\u001b[0m\u001b[0m\n\u001b[0m",
            "\u001b[0;31mNameError\u001b[0m: name 'math' is not defined"
          ]
        }
      ]
    },
    {
      "cell_type": "code",
      "metadata": {
        "colab": {
          "base_uri": "https://localhost:8080/",
          "height": 280
        },
        "id": "Ir2G-dm2PEKx",
        "outputId": "9a7f6e8c-c236-4824-f2f8-e4a09baa3e11"
      },
      "source": [
        "from math import pi, sqrt\n",
        "print(pi)\n",
        "print(sqrt(4.0))\n",
        "\n",
        "## \"모든 것\" 이라는 의미 : *\n",
        "from math import *\n",
        "\n",
        "## from ~ import ~ as\n",
        "from math import pi as a\n",
        "print(a)\n",
        "\n",
        "### 가져온 모듈 해제\n",
        "import math\n",
        "print(math.pi)\n",
        "del math\n",
        "print(math.pi)"
      ],
      "execution_count": null,
      "outputs": [
        {
          "output_type": "stream",
          "name": "stdout",
          "text": [
            "3.141592653589793\n",
            "2.0\n",
            "3.141592653589793\n",
            "3.141592653589793\n"
          ]
        },
        {
          "output_type": "error",
          "ename": "NameError",
          "evalue": "ignored",
          "traceback": [
            "\u001b[0;31m---------------------------------------------------------------------------\u001b[0m",
            "\u001b[0;31mNameError\u001b[0m                                 Traceback (most recent call last)",
            "\u001b[0;32m<ipython-input-25-fb5753289abe>\u001b[0m in \u001b[0;36m<module>\u001b[0;34m()\u001b[0m\n\u001b[1;32m     14\u001b[0m \u001b[0mprint\u001b[0m\u001b[0;34m(\u001b[0m\u001b[0mmath\u001b[0m\u001b[0;34m.\u001b[0m\u001b[0mpi\u001b[0m\u001b[0;34m)\u001b[0m\u001b[0;34m\u001b[0m\u001b[0;34m\u001b[0m\u001b[0m\n\u001b[1;32m     15\u001b[0m \u001b[0;32mdel\u001b[0m \u001b[0mmath\u001b[0m\u001b[0;34m\u001b[0m\u001b[0;34m\u001b[0m\u001b[0m\n\u001b[0;32m---> 16\u001b[0;31m \u001b[0mprint\u001b[0m\u001b[0;34m(\u001b[0m\u001b[0mmath\u001b[0m\u001b[0;34m.\u001b[0m\u001b[0mpi\u001b[0m\u001b[0;34m)\u001b[0m\u001b[0;34m\u001b[0m\u001b[0;34m\u001b[0m\u001b[0m\n\u001b[0m",
            "\u001b[0;31mNameError\u001b[0m: name 'math' is not defined"
          ]
        }
      ]
    },
    {
      "cell_type": "markdown",
      "metadata": {
        "id": "FQdfmHURXQWB"
      },
      "source": [
        "## 들어가기 전, **CRUD**에 대하여.\n",
        "\n",
        "CRUD란,  \n",
        "Create : 데이터를 생성하고    \n",
        "Read : 데이터를 읽고   \n",
        "Update : 데이터를 갱신히고(바꾸고)   \n",
        "Delete : 데이터를 삭제하는   \n",
        "것 이며,\n",
        "\n",
        "대부분의 프로그램/구조들이 가지는 기본적인 데이터 처리 기능이다.  \n",
        "\n",
        "우리가 이 4가지 기능만 잘 사용할 수 있다면 대부분의 작업을 해낼 수 있다.\n",
        "\n",
        "뭔가를 배울 때 CRUD를 중심으로 생각해 보면 좋다.\n",
        "\n",
        "\n"
      ]
    },
    {
      "cell_type": "markdown",
      "metadata": {
        "id": "L7KXjbnISEVP"
      },
      "source": [
        "## Pandas + Numpy를 알아보자!\n",
        "\n",
        "---\n",
        "**Pandas** : 파이썬에서 데이터 처리를 위한 패키지!  \n",
        "데이터를 묶음으로 다루는 작업을 최적화 해준다!!   \n",
        "    \n",
        "> 기존 파이썬에 표 형태를 집어 넣으려면, 2차원 > > 배열로 만들어야 했다.  \n",
        "> [['a', 'b'], [2, 3]]\n",
        "\n",
        "Pandas를 사용하면,  \n",
        "\n",
        "| a | b |  \n",
        "| - | - |  \n",
        "| 2 | 3 |  \n",
        "\n",
        "요런 표 형태로 값을 생각하고, 다룰 수 있어 더 편리하다!\n",
        "\n",
        "---\n",
        "\n",
        "**Numpy** : 파이썬에서 수를 다루는 패키지!  \n",
        "행렬과 배열, 수치 계산을 편리하게 해준다!\n"
      ]
    },
    {
      "cell_type": "code",
      "metadata": {
        "id": "hAzMnZQ-VTd2"
      },
      "source": [
        "# pandas는 주로 pd로 줄여 쓴다.\n",
        "import pandas as pd\n",
        "# numpy는 주로 np로 줄여 쓴다.\n",
        "import numpy as np"
      ],
      "execution_count": null,
      "outputs": []
    },
    {
      "cell_type": "markdown",
      "metadata": {
        "id": "1ZCLKKFtVgVm"
      },
      "source": [
        "Pandas에는 총 세 가지 데이터 구조 (data object)가 있다.  \n",
        "1. Series (시리즈, 1차원 배열, 행 형태)  \n",
        "2. **DataFrame** (데이터프레임, 2차원 배열, 행렬, 표 형태)  \n",
        "3. Panel (패널, 3차원 배열)  \n",
        "   \n",
        "     \n",
        "대부분의 데이터는 .csv 파일 형태이거나 표 형태인 경우가 많아서 **DataFrame**이 제일 많이 이용된다."
      ]
    },
    {
      "cell_type": "markdown",
      "metadata": {
        "id": "yQxQVit6Tjhn"
      },
      "source": [
        "### Pandas - 1. Series\n",
        "시리즈는 우리가 배웠던 1차원 배열 (파이썬에서 리스트)와 매우 비슷하지만,    \n",
        "\n",
        "차이점은, **인덱스를 명시적**으로 붙일 수 있다는 것이다.  \n",
        "\n",
        "> 파이썬의 리스트 : `list = [4, '가', 12, 49]` 에서 인덱스는, list[0], list[3] 등으로 숫자로만 써야 했다.  \n",
        "> \n",
        "> 시리즈에서는 인덱스마다 이름을 붙여줄 수 있다.   \n",
        "> \n",
        "> (명시적으로 붙이지 않으면 list처럼 자동으로 0부터 붙는다.)   아래서 확인해 보자."
      ]
    },
    {
      "cell_type": "code",
      "metadata": {
        "colab": {
          "base_uri": "https://localhost:8080/"
        },
        "id": "nEwN6C2feQ_K",
        "outputId": "bcb6431d-d0df-4242-a1c6-9bd587f3f109"
      },
      "source": [
        "import pandas as pd\n",
        "import numpy as np\n",
        "\n",
        "# 시리즈를 생성(정의)하고, 각 값에 대한 인덱스를 하나하나 붙여줄 수 있다.\n",
        "## 각 도시의 인구 수\n",
        "s = pd.Series(data=[9904312, 3448737, 2890451, 2466052],\n",
        "              index=[\"서울\", \"부산\", \"인천\", \"대구\"])\n",
        "print(s)\n",
        "\n",
        "\n",
        "# 인덱스를 명시적으로 붙이지 않으면, 자동으로 0부터 붙게 된다.\n",
        "# nan : Not a Number , 즉, 값이 없는 데이터이다. (결측치)\n",
        "s1 = pd.Series([1, 3, 5, np.nan, 6, 8])\n",
        "print(s1)"
      ],
      "execution_count": null,
      "outputs": [
        {
          "output_type": "stream",
          "name": "stdout",
          "text": [
            "서울    9904312\n",
            "부산    3448737\n",
            "인천    2890451\n",
            "대구    2466052\n",
            "dtype: int64\n",
            "0    1.0\n",
            "1    3.0\n",
            "2    5.0\n",
            "3    NaN\n",
            "4    6.0\n",
            "5    8.0\n",
            "dtype: float64\n"
          ]
        }
      ]
    },
    {
      "cell_type": "markdown",
      "metadata": {
        "id": "LEjvixTklVz9"
      },
      "source": [
        "인덱스를 붙이는 이유는, 한 값을 다른 값과 구분하기 위해서이다.  \n",
        "=> 식별자, DB에서 기본키 역할  \n",
        "=> 단, 인덱스명이 중복 가능하다! (iloc 명령어로 구분 가능하기 때문)  \n",
        "\n",
        "시리즈는 index - value 쌍이 모여있다고 보면, python의 dictionary 자료형과 같다.\n",
        "\n",
        "\n"
      ]
    },
    {
      "cell_type": "markdown",
      "metadata": {
        "id": "pb7WYFDuiRTl"
      },
      "source": [
        "#### Series - index / value 접근, index 슬라이싱\n",
        "**Read**"
      ]
    },
    {
      "cell_type": "code",
      "metadata": {
        "colab": {
          "base_uri": "https://localhost:8080/"
        },
        "id": "8vd6Hlf-WWS5",
        "outputId": "79daed19-32a1-4fd6-8cfc-1b8359e79dd8"
      },
      "source": [
        "#index와 value에 따로 접근이 가능하다.\n",
        "print(s.values)\n",
        "print(s.index)\n",
        "print()\n",
        "\n",
        "#index 자체에 이름을 붙여줄 수 있다.\n",
        "s.index.name = \"도시\"\n",
        "print(s)\n",
        "print()\n",
        "\n",
        "\n",
        "# 인덱스를 또 변경이 가능하다!\n",
        "s.index = ['a', 'b', 'c', 'd']\n",
        "print(s)"
      ],
      "execution_count": null,
      "outputs": [
        {
          "output_type": "stream",
          "name": "stdout",
          "text": [
            "[9904312 3448737 2890451 2466052]\n",
            "Index(['a', 'b', 'c', 'd'], dtype='object')\n",
            "\n",
            "도시\n",
            "a    9904312\n",
            "b    3448737\n",
            "c    2890451\n",
            "d    2466052\n",
            "dtype: int64\n",
            "\n",
            "a    9904312\n",
            "b    3448737\n",
            "c    2890451\n",
            "d    2466052\n",
            "dtype: int64\n"
          ]
        }
      ]
    },
    {
      "cell_type": "code",
      "metadata": {
        "colab": {
          "base_uri": "https://localhost:8080/"
        },
        "id": "91lihiBQWWOw",
        "outputId": "270153bf-bd43-4802-85a5-f0c09fedf8e8"
      },
      "source": [
        "# 한 번에 여러 인덱스에 접근 / 슬라이싱 하려면, .loc, .iloc을 써 주면 된다!\n",
        "## label-location, integer location\n",
        "\n",
        "print(s.loc['a':'c'])\n",
        "print()\n",
        "print(s.iloc[2:3])\n",
        "print()\n",
        "print(s.loc[ ['b', 'd'] ])"
      ],
      "execution_count": null,
      "outputs": [
        {
          "output_type": "stream",
          "name": "stdout",
          "text": [
            "a    9904312\n",
            "b    3448737\n",
            "c    2890451\n",
            "dtype: int64\n",
            "\n",
            "c    2890451\n",
            "dtype: int64\n",
            "\n",
            "b    3448737\n",
            "d    2466052\n",
            "dtype: int64\n"
          ]
        }
      ]
    },
    {
      "cell_type": "markdown",
      "metadata": {
        "id": "ykQnogZL_HaT"
      },
      "source": [
        "#### series 값 추가 / 수정 / 삭제\n",
        "**Create**  \n",
        "**Update**  \n",
        "**Delete**  \n"
      ]
    },
    {
      "cell_type": "code",
      "metadata": {
        "id": "_Qc6GkbM_Lvb"
      },
      "source": [
        ""
      ],
      "execution_count": null,
      "outputs": []
    },
    {
      "cell_type": "code",
      "metadata": {
        "colab": {
          "base_uri": "https://localhost:8080/"
        },
        "id": "ayyxTFFZ_wCk",
        "outputId": "bb024b40-4207-4011-bc91-4236edd1cf74"
      },
      "source": [
        "# 단일 값을 Series에 추가하려면, 새로운 index를 지정하면서 loc, iloc을 이용하면 된다!\n",
        "s.loc['새로운 값'] = 'new'\n",
        "print(s)"
      ],
      "execution_count": null,
      "outputs": [
        {
          "output_type": "stream",
          "name": "stdout",
          "text": [
            "a        9904312\n",
            "b        3448737\n",
            "c        2890451\n",
            "d        2466052\n",
            "새로운 값        new\n",
            "dtype: object\n"
          ]
        }
      ]
    },
    {
      "cell_type": "code",
      "metadata": {
        "colab": {
          "base_uri": "https://localhost:8080/"
        },
        "id": "ZKGsW0TfAEYz",
        "outputId": "ba50786d-e907-434e-b020-245f191ae58e"
      },
      "source": [
        "# 단일 값을 수정하려면, 이미 있는 index에 loc, iloc으로 접근하면 된다.\n",
        "s.loc['새로운 값'] = 'old'\n",
        "print(s)"
      ],
      "execution_count": null,
      "outputs": [
        {
          "output_type": "stream",
          "name": "stdout",
          "text": [
            "a        9904312\n",
            "b        3448737\n",
            "c        2890451\n",
            "d        2466052\n",
            "새로운 값        old\n",
            "dtype: object\n"
          ]
        }
      ]
    },
    {
      "cell_type": "code",
      "metadata": {
        "colab": {
          "base_uri": "https://localhost:8080/"
        },
        "id": "be6zPLEQAeH8",
        "outputId": "92c18869-627a-4b97-e22b-311f1deb1207"
      },
      "source": [
        "# 단일 값을 삭제하려면, 이미 있는 index와 drop을 사용하면 된다. \n",
        "# (단, drop은 객체만 반환해서, 다시 변수에 넣어주는 과정 필요)\n",
        "s = s.drop('새로운 값')\n",
        "print(s)"
      ],
      "execution_count": null,
      "outputs": [
        {
          "output_type": "stream",
          "name": "stdout",
          "text": [
            "a    9904312\n",
            "b    3448737\n",
            "c    2890451\n",
            "d    2466052\n",
            "dtype: object\n"
          ]
        }
      ]
    },
    {
      "cell_type": "markdown",
      "metadata": {
        "id": "MmwalXf4-6x2"
      },
      "source": [
        "#### series 늘리기 / 합치기"
      ]
    },
    {
      "cell_type": "code",
      "metadata": {
        "colab": {
          "base_uri": "https://localhost:8080/"
        },
        "id": "KY47IluSWWIp",
        "outputId": "b0bdbe7f-daec-46dc-bd48-2c11f8056923"
      },
      "source": [
        "## series를 더 늘리거나 합치고 싶을 때는 다른 series를 만들어서 append() 해주면 된다.\n",
        "news = pd.Series(data=['안','녕','하','세','요'])\n",
        "\n",
        "# append() 같은 명령을 쓸 때, 원본 데이터를 건드리는지 여부도 확인해야 한다.\n",
        "## 여기서 list와 다르게, 원본은 건드리지 않고 새로운 객체를 반환한다. \n",
        "## => 따로 변수에 저장 필요\n",
        "appends = s.append(news)\n",
        "print(appends)\n",
        "print()\n",
        "\n",
        "# ignore_index 옵션 : index를 없애고 기본으로 되돌림.\n",
        "appendsIdx = s.append(news, ignore_index=True)\n",
        "print(appendsIdx)"
      ],
      "execution_count": null,
      "outputs": [
        {
          "output_type": "stream",
          "name": "stdout",
          "text": [
            "a    9904312\n",
            "b    3448737\n",
            "c    2890451\n",
            "d    2466052\n",
            "0          안\n",
            "1          녕\n",
            "2          하\n",
            "3          세\n",
            "4          요\n",
            "dtype: object\n",
            "0    9904312\n",
            "1    3448737\n",
            "2    2890451\n",
            "3    2466052\n",
            "4          안\n",
            "5          녕\n",
            "6          하\n",
            "7          세\n",
            "8          요\n",
            "dtype: object\n"
          ]
        }
      ]
    },
    {
      "cell_type": "markdown",
      "metadata": {
        "id": "L_HRamAlBFfD"
      },
      "source": [
        "### Pandas - 2. Dataframe\n",
        "\n",
        "Pandas의 Dataframe은 관계형 데이터베이스의 Table 개념과 많이 닮아 있다.  \n",
        "\n",
        "세로, 열을 column이라 하고,  \n",
        "가로, 행을 row라 한다.\n",
        "\n",
        "---\n",
        "데이터 프레임의 직접 생성:\n",
        "1. 딕셔너리 + 리스트를 이용해서 2차원 배열 형태를 만들어서 바로 DataFrame에 집어 넣기   \n",
        "`{컬럼명 : [컬럼 값들]}`  \n",
        "2. index, columns 리스트를 각각 만들어서 집어 넣기  \n",
        "`pd.DataFrame(data, index=[], columns=[])`\n",
        "  \n",
        "Series 처럼 맨 왼쪽에 인덱스가 자동 생성되며, 맨 첫째 줄에는 각각의 컬럼명이 들어간다."
      ]
    },
    {
      "cell_type": "code",
      "metadata": {
        "colab": {
          "base_uri": "https://localhost:8080/"
        },
        "id": "IiX8vgVrCvQU",
        "outputId": "a1c77c5a-fc64-4f39-cde6-c02f3626dd3e"
      },
      "source": [
        "import pandas as pd\n",
        "# 방법 1\n",
        "data = {\n",
        "    \"KCA 스터디\" : [\"자료구조\", \"알고리즘\", \"git_github\", \"데이터 분석\"],\n",
        "    \"오전/오후\" : [\"오후\", \"오후\", \"오후\", \"오후\"],\n",
        "    \"시간\" : [\"7시\", \"7시\", \"7시\", \"7시 50분\"],\n",
        "    \"날짜\" : [\"금\", \"일\", \"목\", \"금\"]\n",
        "}\n",
        "#주로 dataframe은 df라 줄여 쓴다.\n",
        "df = pd.DataFrame(data, index=['스터디1', '스터디2', '스터디3', '스터디4'])\n",
        "print(df, '\\n')"
      ],
      "execution_count": null,
      "outputs": [
        {
          "output_type": "stream",
          "name": "stdout",
          "text": [
            "         KCA 스터디 오전/오후      시간 날짜\n",
            "스터디1        자료구조    오후      7시  금\n",
            "스터디2        알고리즘    오후      7시  일\n",
            "스터디3  git_github    오후      7시  목\n",
            "스터디4      데이터 분석    오후  7시 50분  금 \n",
            "\n",
            "KCA 스터디    object\n",
            "오전/오후      object\n",
            "시간         object\n",
            "날짜         object\n",
            "dtype: object\n"
          ]
        }
      ]
    },
    {
      "cell_type": "code",
      "metadata": {
        "colab": {
          "base_uri": "https://localhost:8080/"
        },
        "id": "Q43KXNt1GECG",
        "outputId": "6499684d-6869-49e3-99dc-4a5651f36eae"
      },
      "source": [
        "# 방법 2\n",
        "# 단, 방법 1이랑 방향 주의!\n",
        "data = [\n",
        "    ['a', 'b', 'c'],\n",
        "    ['가','나','다'],\n",
        "    [1,2,3]\n",
        "]\n",
        "df2 = pd.DataFrame(data=data, index=['영어', '한글', '숫자'], columns=['첫 번째', '두 번째', '세 번째'])\n",
        "print(df2)"
      ],
      "execution_count": null,
      "outputs": [
        {
          "output_type": "stream",
          "name": "stdout",
          "text": [
            "   첫 번째 두 번째 세 번째\n",
            "영어    a    b    c\n",
            "한글    가    나    다\n",
            "숫자    1    2    3\n",
            "첫 번째    object\n",
            "두 번째    object\n",
            "세 번째    object\n",
            "dtype: object\n"
          ]
        }
      ]
    },
    {
      "cell_type": "markdown",
      "metadata": {
        "id": "1JL-XJZxGiAY"
      },
      "source": [
        "#### DataFrame index / value 접근, 슬라이싱 (loc, iloc)\n",
        "\n",
        "label-location, integer-location"
      ]
    },
    {
      "cell_type": "code",
      "metadata": {
        "colab": {
          "base_uri": "https://localhost:8080/"
        },
        "id": "82VgksVBCvJt",
        "outputId": "03ba2aee-df1e-4d6b-a42c-9c0904a421ef"
      },
      "source": [
        "print(df.index, '\\n')\n",
        "print(df.values, '\\n')\n",
        "# 시리즈에는 없던 열 이름에 접근할 수 있다. \n",
        "# (column명을 각 열에 대한 인덱스로 볼 수 있음)\n",
        "print(df.columns, '\\n')"
      ],
      "execution_count": null,
      "outputs": [
        {
          "output_type": "stream",
          "name": "stdout",
          "text": [
            "Index(['스터디1', '스터디2', '스터디3', '스터디4'], dtype='object') \n",
            "\n",
            "[['자료구조' '오후' '7시' '금']\n",
            " ['알고리즘' '오후' '7시' '일']\n",
            " ['git_github' '오후' '7시' '목']\n",
            " ['데이터 분석' '오후' '7시 50분' '금']] \n",
            "\n",
            "Index(['KCA 스터디', '오전/오후', '시간', '날짜'], dtype='object') \n",
            "\n"
          ]
        }
      ]
    },
    {
      "cell_type": "code",
      "metadata": {
        "colab": {
          "base_uri": "https://localhost:8080/"
        },
        "id": "Pv1wToqiHGOd",
        "outputId": "329b4a0e-35f4-4331-bbf9-475ab98cee8e"
      },
      "source": [
        "#시리즈처럼, 인덱스들과 컬럼명들에 이름을 붙일 수 있다.\n",
        "df.index.name = \"인덱스이름\"\n",
        "df.columns.name = \"컬럼이름\"\n",
        "print(df)"
      ],
      "execution_count": null,
      "outputs": [
        {
          "output_type": "stream",
          "name": "stdout",
          "text": [
            "컬럼이름      KCA 스터디 오전/오후      시간 날짜\n",
            "인덱스이름                             \n",
            "스터디1         자료구조    오후      7시  금\n",
            "스터디2         알고리즘    오후      7시  일\n",
            "스터디3   git_github    오후      7시  목\n",
            "스터디4       데이터 분석    오후  7시 50분  금\n"
          ]
        }
      ]
    },
    {
      "cell_type": "markdown",
      "metadata": {
        "id": "uYLWwwidILZU"
      },
      "source": [
        "#### DataFrame 슬라이싱\n",
        "DataFrame은 2차원 데이터라서, 슬라이싱을 열 기준, 행 기준으로 각각 할 수 있음.  \n",
        "\n",
        "슬라이싱을 통해 우리는 DataFrame의 원하는 부분만 읽을 수 있다.  \n",
        "\n",
        "**READ**"
      ]
    },
    {
      "cell_type": "code",
      "metadata": {
        "colab": {
          "base_uri": "https://localhost:8080/"
        },
        "id": "z8PL88UdKQNm",
        "outputId": "1fe151b2-b738-4a36-ed40-3f1b8be91bd5"
      },
      "source": [
        "# 열 기준으로 슬라이싱 : 컬럼명 이용\n",
        "print(df['KCA 스터디'], \"\\n\")\n",
        "print(df['KCA 스터디':'시간'], \"\\n\")\n",
        "print(df[ ['KCA 스터디', '시간'] ], \"\\n\")\n"
      ],
      "execution_count": null,
      "outputs": [
        {
          "output_type": "stream",
          "name": "stdout",
          "text": [
            "인덱스이름\n",
            "스터디1          자료구조\n",
            "스터디2          알고리즘\n",
            "스터디3    git_github\n",
            "스터디4        데이터 분석\n",
            "Name: KCA 스터디, dtype: object \n",
            "\n",
            "컬럼이름      KCA 스터디 오전/오후      시간 날짜\n",
            "인덱스이름                             \n",
            "스터디1         자료구조    오후      7시  금\n",
            "스터디2         알고리즘    오후      7시  일\n",
            "스터디3   git_github    오후      7시  목\n",
            "스터디4       데이터 분석    오후  7시 50분  금 \n",
            "\n",
            "컬럼이름      KCA 스터디      시간\n",
            "인덱스이름                    \n",
            "스터디1         자료구조      7시\n",
            "스터디2         알고리즘      7시\n",
            "스터디3   git_github      7시\n",
            "스터디4       데이터 분석  7시 50분 \n",
            "\n"
          ]
        }
      ]
    },
    {
      "cell_type": "code",
      "metadata": {
        "colab": {
          "base_uri": "https://localhost:8080/"
        },
        "id": "HTntG9_RK4nv",
        "outputId": "286d7c42-e0eb-4faf-cf0d-375de7e3aea2"
      },
      "source": [
        "# 행 기준으로 슬라이싱\n",
        "print(df.loc['스터디1'], '\\n')\n",
        "print(df.loc['스터디1':'스터디3'])\n"
      ],
      "execution_count": null,
      "outputs": [
        {
          "output_type": "stream",
          "name": "stdout",
          "text": [
            "컬럼이름\n",
            "KCA 스터디    자료구조\n",
            "오전/오후        오후\n",
            "시간           7시\n",
            "날짜            금\n",
            "Name: 스터디1, dtype: object \n",
            "\n",
            "컬럼이름      KCA 스터디 오전/오후  시간 날짜\n",
            "인덱스이름                         \n",
            "스터디1         자료구조    오후  7시  금\n",
            "스터디2         알고리즘    오후  7시  일\n",
            "스터디3   git_github    오후  7시  목\n"
          ]
        }
      ]
    },
    {
      "cell_type": "code",
      "metadata": {
        "colab": {
          "base_uri": "https://localhost:8080/"
        },
        "id": "5taU3vAZLWd5",
        "outputId": "6d2f04e1-ecfb-40fa-d4bb-c4e4a4413021"
      },
      "source": [
        "# 행 / 열 동시에 슬라이싱 \n",
        "print(df.loc['스터디1', 'KCA 스터디'], '\\n')\n",
        "\n",
        "print(df.loc[['스터디1', '스터디2'], ['시간', 'KCA 스터디']], '\\n')\n",
        "\n",
        "\n",
        "# iloc 사용  (주의! index명, 컬럼명 모두 숫자로 써야 한다!!)\n",
        "print(df.iloc[1, 1], '\\n')\n",
        "\n",
        "print(df.iloc[[1,2], [0,3]], '\\n')\n"
      ],
      "execution_count": null,
      "outputs": [
        {
          "output_type": "stream",
          "name": "stdout",
          "text": [
            "자료구조 \n",
            "\n",
            "컬럼이름   시간 KCA 스터디\n",
            "인덱스이름            \n",
            "스터디1   7시    자료구조\n",
            "스터디2   7시    알고리즘 \n",
            "\n",
            "오후 \n",
            "\n",
            "컬럼이름      KCA 스터디 날짜\n",
            "인덱스이름               \n",
            "스터디2         알고리즘  일\n",
            "스터디3   git_github  목\n"
          ]
        }
      ]
    },
    {
      "cell_type": "markdown",
      "metadata": {
        "id": "5c2djBIIIAo-"
      },
      "source": [
        "#### DataFrame 데이터 추가 / 수정 / 삭제\n",
        "위에서 보았듯이, 데이터프레임은 각각의 시리즈들이 합쳐진 것,  \n",
        "list가 합쳐진 것으로 볼 수 있다.  \n",
        "\n",
        "**CREATE**  \n",
        "**UPDATE**  \n",
        "**DELETE**  "
      ]
    },
    {
      "cell_type": "code",
      "metadata": {
        "colab": {
          "base_uri": "https://localhost:8080/"
        },
        "id": "1LNBfO-GIOO9",
        "outputId": "8d602c32-28c1-43f0-8063-4ea4f206d16a"
      },
      "source": [
        "# 데이터 추가하기 : 위의 행, 열 접근에서 추가할 수 있다.\n",
        "# 열 데이터 추가하기\n",
        "df['인원수'] = [3, 5, 4, 9]\n",
        "print(df, '\\n')\n",
        "\n",
        "# 행 데이터 추가하기\n",
        "df.loc['스터디5'] = ['C 프로그래밍', '오전', '11시', '월', '6']\n",
        "print(df, '\\n')"
      ],
      "execution_count": null,
      "outputs": [
        {
          "output_type": "stream",
          "name": "stdout",
          "text": [
            "         KCA 스터디 오전/오후      시간 날짜  인원수\n",
            "스터디1        자료구조    오후      7시  금    3\n",
            "스터디2        알고리즘    오후      7시  일    5\n",
            "스터디3  git_github    오후      7시  목    4\n",
            "스터디4      데이터 분석    오후  7시 50분  금    9 \n",
            "\n",
            "         KCA 스터디 오전/오후      시간 날짜 인원수\n",
            "스터디1        자료구조    오후      7시  금   3\n",
            "스터디2        알고리즘    오후      7시  일   5\n",
            "스터디3  git_github    오후      7시  목   4\n",
            "스터디4      데이터 분석    오후  7시 50분  금   9\n",
            "스터디5     C 프로그래밍    오전     11시  월   6 \n",
            "\n"
          ]
        }
      ]
    },
    {
      "cell_type": "code",
      "metadata": {
        "colab": {
          "base_uri": "https://localhost:8080/"
        },
        "id": "jzh5M3x2W92Y",
        "outputId": "30501fc4-bd9e-4077-f579-4f95db98859f"
      },
      "source": [
        "# 열 데이터 변경하기\n",
        "df['인원수'] = [0, 0, 0, 0, 0]\n",
        "print(df, '\\n')\n",
        "\n",
        "# 행 데이터 변경하기\n",
        "df.loc['스터디5'] = ['JAVA 프로그래밍', '오전', '11시', '월', '6']\n",
        "print(df, '\\n')\n",
        "\n",
        "# 특정 부분만 변경하기\n",
        "df.loc['스터디5', '오전/오후'] = '오후'\n",
        "print(df, '\\n')\n"
      ],
      "execution_count": null,
      "outputs": [
        {
          "output_type": "stream",
          "name": "stdout",
          "text": [
            "         KCA 스터디 오전/오후      시간 날짜  인원수\n",
            "스터디1        자료구조    오후      7시  금    0\n",
            "스터디2        알고리즘    오후      7시  일    0\n",
            "스터디3  git_github    오후      7시  목    0\n",
            "스터디4      데이터 분석    오후  7시 50분  금    0\n",
            "스터디5  JAVA 프로그래밍    오전     11시  월    0 \n",
            "\n",
            "         KCA 스터디 오전/오후      시간 날짜 인원수\n",
            "스터디1        자료구조    오후      7시  금   0\n",
            "스터디2        알고리즘    오후      7시  일   0\n",
            "스터디3  git_github    오후      7시  목   0\n",
            "스터디4      데이터 분석    오후  7시 50분  금   0\n",
            "스터디5  JAVA 프로그래밍    오전     11시  월   6 \n",
            "\n",
            "         KCA 스터디 오전/오후      시간 날짜 인원수\n",
            "스터디1        자료구조    오후      7시  금   0\n",
            "스터디2        알고리즘    오후      7시  일   0\n",
            "스터디3  git_github    오후      7시  목   0\n",
            "스터디4      데이터 분석    오후  7시 50분  금   0\n",
            "스터디5  JAVA 프로그래밍    오후     11시  월   6 \n",
            "\n"
          ]
        }
      ]
    },
    {
      "cell_type": "code",
      "metadata": {
        "colab": {
          "base_uri": "https://localhost:8080/",
          "height": 404
        },
        "id": "1T6J1O5dW-HH",
        "outputId": "fff744e9-5eb9-4bc7-ac33-853275fece3f"
      },
      "source": [
        "# 행/열 삭제하기 : drop()\n",
        "# drop()에서 행/열 구분은 axis로 한다!\n",
        "# axis=1 : 컬럼값(레이블, label), axis=0: 인덱스\n",
        "\n",
        "# drop()은 한 번 다시 저장해주어야 한다!\n",
        "df = df.drop('스터디5', axis=0)\n",
        "print(df, '\\n')\n",
        "\n",
        "df = df.drop('인원수', axis=1)\n",
        "print(df, '\\n')"
      ],
      "execution_count": null,
      "outputs": [
        {
          "output_type": "error",
          "ename": "KeyError",
          "evalue": "ignored",
          "traceback": [
            "\u001b[0;31m---------------------------------------------------------------------------\u001b[0m",
            "\u001b[0;31mKeyError\u001b[0m                                  Traceback (most recent call last)",
            "\u001b[0;32m<ipython-input-40-790e0d66b558>\u001b[0m in \u001b[0;36m<module>\u001b[0;34m()\u001b[0m\n\u001b[1;32m      4\u001b[0m \u001b[0;34m\u001b[0m\u001b[0m\n\u001b[1;32m      5\u001b[0m \u001b[0;31m# drop()은 한 번 다시 저장해주어야 한다!\u001b[0m\u001b[0;34m\u001b[0m\u001b[0;34m\u001b[0m\u001b[0;34m\u001b[0m\u001b[0m\n\u001b[0;32m----> 6\u001b[0;31m \u001b[0mdf\u001b[0m \u001b[0;34m=\u001b[0m \u001b[0mdf\u001b[0m\u001b[0;34m.\u001b[0m\u001b[0mdrop\u001b[0m\u001b[0;34m(\u001b[0m\u001b[0;34m'스터디5'\u001b[0m\u001b[0;34m,\u001b[0m \u001b[0maxis\u001b[0m\u001b[0;34m=\u001b[0m\u001b[0;36m0\u001b[0m\u001b[0;34m)\u001b[0m\u001b[0;34m\u001b[0m\u001b[0;34m\u001b[0m\u001b[0m\n\u001b[0m\u001b[1;32m      7\u001b[0m \u001b[0mprint\u001b[0m\u001b[0;34m(\u001b[0m\u001b[0mdf\u001b[0m\u001b[0;34m,\u001b[0m \u001b[0;34m'\\n'\u001b[0m\u001b[0;34m)\u001b[0m\u001b[0;34m\u001b[0m\u001b[0;34m\u001b[0m\u001b[0m\n\u001b[1;32m      8\u001b[0m \u001b[0;34m\u001b[0m\u001b[0m\n",
            "\u001b[0;32m/usr/local/lib/python3.7/dist-packages/pandas/core/frame.py\u001b[0m in \u001b[0;36mdrop\u001b[0;34m(self, labels, axis, index, columns, level, inplace, errors)\u001b[0m\n\u001b[1;32m   4172\u001b[0m             \u001b[0mlevel\u001b[0m\u001b[0;34m=\u001b[0m\u001b[0mlevel\u001b[0m\u001b[0;34m,\u001b[0m\u001b[0;34m\u001b[0m\u001b[0;34m\u001b[0m\u001b[0m\n\u001b[1;32m   4173\u001b[0m             \u001b[0minplace\u001b[0m\u001b[0;34m=\u001b[0m\u001b[0minplace\u001b[0m\u001b[0;34m,\u001b[0m\u001b[0;34m\u001b[0m\u001b[0;34m\u001b[0m\u001b[0m\n\u001b[0;32m-> 4174\u001b[0;31m             \u001b[0merrors\u001b[0m\u001b[0;34m=\u001b[0m\u001b[0merrors\u001b[0m\u001b[0;34m,\u001b[0m\u001b[0;34m\u001b[0m\u001b[0;34m\u001b[0m\u001b[0m\n\u001b[0m\u001b[1;32m   4175\u001b[0m         )\n\u001b[1;32m   4176\u001b[0m \u001b[0;34m\u001b[0m\u001b[0m\n",
            "\u001b[0;32m/usr/local/lib/python3.7/dist-packages/pandas/core/generic.py\u001b[0m in \u001b[0;36mdrop\u001b[0;34m(self, labels, axis, index, columns, level, inplace, errors)\u001b[0m\n\u001b[1;32m   3887\u001b[0m         \u001b[0;32mfor\u001b[0m \u001b[0maxis\u001b[0m\u001b[0;34m,\u001b[0m \u001b[0mlabels\u001b[0m \u001b[0;32min\u001b[0m \u001b[0maxes\u001b[0m\u001b[0;34m.\u001b[0m\u001b[0mitems\u001b[0m\u001b[0;34m(\u001b[0m\u001b[0;34m)\u001b[0m\u001b[0;34m:\u001b[0m\u001b[0;34m\u001b[0m\u001b[0;34m\u001b[0m\u001b[0m\n\u001b[1;32m   3888\u001b[0m             \u001b[0;32mif\u001b[0m \u001b[0mlabels\u001b[0m \u001b[0;32mis\u001b[0m \u001b[0;32mnot\u001b[0m \u001b[0;32mNone\u001b[0m\u001b[0;34m:\u001b[0m\u001b[0;34m\u001b[0m\u001b[0;34m\u001b[0m\u001b[0m\n\u001b[0;32m-> 3889\u001b[0;31m                 \u001b[0mobj\u001b[0m \u001b[0;34m=\u001b[0m \u001b[0mobj\u001b[0m\u001b[0;34m.\u001b[0m\u001b[0m_drop_axis\u001b[0m\u001b[0;34m(\u001b[0m\u001b[0mlabels\u001b[0m\u001b[0;34m,\u001b[0m \u001b[0maxis\u001b[0m\u001b[0;34m,\u001b[0m \u001b[0mlevel\u001b[0m\u001b[0;34m=\u001b[0m\u001b[0mlevel\u001b[0m\u001b[0;34m,\u001b[0m \u001b[0merrors\u001b[0m\u001b[0;34m=\u001b[0m\u001b[0merrors\u001b[0m\u001b[0;34m)\u001b[0m\u001b[0;34m\u001b[0m\u001b[0;34m\u001b[0m\u001b[0m\n\u001b[0m\u001b[1;32m   3890\u001b[0m \u001b[0;34m\u001b[0m\u001b[0m\n\u001b[1;32m   3891\u001b[0m         \u001b[0;32mif\u001b[0m \u001b[0minplace\u001b[0m\u001b[0;34m:\u001b[0m\u001b[0;34m\u001b[0m\u001b[0;34m\u001b[0m\u001b[0m\n",
            "\u001b[0;32m/usr/local/lib/python3.7/dist-packages/pandas/core/generic.py\u001b[0m in \u001b[0;36m_drop_axis\u001b[0;34m(self, labels, axis, level, errors)\u001b[0m\n\u001b[1;32m   3921\u001b[0m                 \u001b[0mnew_axis\u001b[0m \u001b[0;34m=\u001b[0m \u001b[0maxis\u001b[0m\u001b[0;34m.\u001b[0m\u001b[0mdrop\u001b[0m\u001b[0;34m(\u001b[0m\u001b[0mlabels\u001b[0m\u001b[0;34m,\u001b[0m \u001b[0mlevel\u001b[0m\u001b[0;34m=\u001b[0m\u001b[0mlevel\u001b[0m\u001b[0;34m,\u001b[0m \u001b[0merrors\u001b[0m\u001b[0;34m=\u001b[0m\u001b[0merrors\u001b[0m\u001b[0;34m)\u001b[0m\u001b[0;34m\u001b[0m\u001b[0;34m\u001b[0m\u001b[0m\n\u001b[1;32m   3922\u001b[0m             \u001b[0;32melse\u001b[0m\u001b[0;34m:\u001b[0m\u001b[0;34m\u001b[0m\u001b[0;34m\u001b[0m\u001b[0m\n\u001b[0;32m-> 3923\u001b[0;31m                 \u001b[0mnew_axis\u001b[0m \u001b[0;34m=\u001b[0m \u001b[0maxis\u001b[0m\u001b[0;34m.\u001b[0m\u001b[0mdrop\u001b[0m\u001b[0;34m(\u001b[0m\u001b[0mlabels\u001b[0m\u001b[0;34m,\u001b[0m \u001b[0merrors\u001b[0m\u001b[0;34m=\u001b[0m\u001b[0merrors\u001b[0m\u001b[0;34m)\u001b[0m\u001b[0;34m\u001b[0m\u001b[0;34m\u001b[0m\u001b[0m\n\u001b[0m\u001b[1;32m   3924\u001b[0m             \u001b[0mresult\u001b[0m \u001b[0;34m=\u001b[0m \u001b[0mself\u001b[0m\u001b[0;34m.\u001b[0m\u001b[0mreindex\u001b[0m\u001b[0;34m(\u001b[0m\u001b[0;34m**\u001b[0m\u001b[0;34m{\u001b[0m\u001b[0maxis_name\u001b[0m\u001b[0;34m:\u001b[0m \u001b[0mnew_axis\u001b[0m\u001b[0;34m}\u001b[0m\u001b[0;34m)\u001b[0m\u001b[0;34m\u001b[0m\u001b[0;34m\u001b[0m\u001b[0m\n\u001b[1;32m   3925\u001b[0m \u001b[0;34m\u001b[0m\u001b[0m\n",
            "\u001b[0;32m/usr/local/lib/python3.7/dist-packages/pandas/core/indexes/base.py\u001b[0m in \u001b[0;36mdrop\u001b[0;34m(self, labels, errors)\u001b[0m\n\u001b[1;32m   5285\u001b[0m         \u001b[0;32mif\u001b[0m \u001b[0mmask\u001b[0m\u001b[0;34m.\u001b[0m\u001b[0many\u001b[0m\u001b[0;34m(\u001b[0m\u001b[0;34m)\u001b[0m\u001b[0;34m:\u001b[0m\u001b[0;34m\u001b[0m\u001b[0;34m\u001b[0m\u001b[0m\n\u001b[1;32m   5286\u001b[0m             \u001b[0;32mif\u001b[0m \u001b[0merrors\u001b[0m \u001b[0;34m!=\u001b[0m \u001b[0;34m\"ignore\"\u001b[0m\u001b[0;34m:\u001b[0m\u001b[0;34m\u001b[0m\u001b[0;34m\u001b[0m\u001b[0m\n\u001b[0;32m-> 5287\u001b[0;31m                 \u001b[0;32mraise\u001b[0m \u001b[0mKeyError\u001b[0m\u001b[0;34m(\u001b[0m\u001b[0;34mf\"{labels[mask]} not found in axis\"\u001b[0m\u001b[0;34m)\u001b[0m\u001b[0;34m\u001b[0m\u001b[0;34m\u001b[0m\u001b[0m\n\u001b[0m\u001b[1;32m   5288\u001b[0m             \u001b[0mindexer\u001b[0m \u001b[0;34m=\u001b[0m \u001b[0mindexer\u001b[0m\u001b[0;34m[\u001b[0m\u001b[0;34m~\u001b[0m\u001b[0mmask\u001b[0m\u001b[0;34m]\u001b[0m\u001b[0;34m\u001b[0m\u001b[0;34m\u001b[0m\u001b[0m\n\u001b[1;32m   5289\u001b[0m         \u001b[0;32mreturn\u001b[0m \u001b[0mself\u001b[0m\u001b[0;34m.\u001b[0m\u001b[0mdelete\u001b[0m\u001b[0;34m(\u001b[0m\u001b[0mindexer\u001b[0m\u001b[0;34m)\u001b[0m\u001b[0;34m\u001b[0m\u001b[0;34m\u001b[0m\u001b[0m\n",
            "\u001b[0;31mKeyError\u001b[0m: \"['스터디5'] not found in axis\""
          ]
        }
      ]
    },
    {
      "cell_type": "markdown",
      "metadata": {
        "id": "JzEvFkxtX_-Z"
      },
      "source": [
        "#### 행/열 단위 연산"
      ]
    },
    {
      "cell_type": "code",
      "metadata": {
        "colab": {
          "base_uri": "https://localhost:8080/"
        },
        "id": "TBmz5uB_CvHV",
        "outputId": "c1b06ab8-9f34-4e24-ad67-883948f309de"
      },
      "source": [
        "#DataFrame은 행/열 단위로 연산이 가능하다!!\n",
        "#반복문을 안 써도 됨 + 반복문보다 연산 속도 빠름.\n",
        "data = {\n",
        "    'a':[1, 2, 3, 4, 5],\n",
        "    'b':[4, 2, 1, 5, 6],\n",
        "    'c':[9, 6, 8, 7, 10]\n",
        "}\n",
        "dfNum = pd.DataFrame(data)\n",
        "print(dfNum, '\\n\\n')\n",
        "\n",
        "\n",
        "print(dfNum['a'] - dfNum['b'], '\\n')\n",
        "\n",
        "print(dfNum['a'] / dfNum['b'], '\\n')\n",
        "\n",
        "print(dfNum.loc[1] / dfNum.loc[2], '\\n')"
      ],
      "execution_count": null,
      "outputs": [
        {
          "output_type": "stream",
          "name": "stdout",
          "text": [
            "   a  b   c\n",
            "0  1  4   9\n",
            "1  2  2   6\n",
            "2  3  1   8\n",
            "3  4  5   7\n",
            "4  5  6  10 \n",
            "\n",
            "\n",
            "0   -3\n",
            "1    0\n",
            "2    2\n",
            "3   -1\n",
            "4   -1\n",
            "dtype: int64 \n",
            "\n",
            "0    0.250000\n",
            "1    1.000000\n",
            "2    3.000000\n",
            "3    0.800000\n",
            "4    0.833333\n",
            "dtype: float64 \n",
            "\n",
            "a    0.666667\n",
            "b    2.000000\n",
            "c    0.750000\n",
            "dtype: float64 \n",
            "\n"
          ]
        }
      ]
    },
    {
      "cell_type": "markdown",
      "metadata": {
        "id": "KsuffxKtZmKA"
      },
      "source": [
        "### Pandas - 외부 파일 읽고 쓰기\n",
        "\n",
        "---\n",
        "기본으로 주어지는 sample data (csv)를 받아와 보자.  \n",
        "  \n",
        "Pandas에서 csv 파일 읽기/쓰기 명령은,  \n",
        "`read_csv` / `to_csv` 이다.    \n",
        "  \n",
        "파일을 처음 읽어오면, 맨 앞 줄에 index가 0부터 자동으로 부여된다.  \n"
      ]
    },
    {
      "cell_type": "code",
      "metadata": {
        "colab": {
          "base_uri": "https://localhost:8080/"
        },
        "id": "Nwx2IGyRRLgm",
        "outputId": "4508b5a8-1fa3-48f1-f796-055ad7c446a9"
      },
      "source": [
        "import os\n",
        "# 현재 이 파일이 위치한 경로\n",
        "print(os.getcwd())\n",
        "\n",
        "import pandas as pd\n",
        "# 현재 파일 위치 + sample data 경로로 data 접근.\n",
        "df = pd.read_csv(f\"{os.getcwd()}\" + \"/sample_data/california_housing_test.csv\")\n",
        "print(df)\n",
        "\n",
        "# df 변수의 type 확인\n",
        "# python은 처음 변수 선언 시 type이 정해지지 않아서, 자주 확인하는 것이 디버깅에 좋음.\n",
        "print(type(df))\n",
        "\n",
        "# 각 컬럼의 type 출력\n",
        "print(df.dtypes)"
      ],
      "execution_count": null,
      "outputs": [
        {
          "output_type": "stream",
          "name": "stdout",
          "text": [
            "/content\n",
            "      longitude  latitude  ...  median_income  median_house_value\n",
            "0       -122.05     37.37  ...         6.6085            344700.0\n",
            "1       -118.30     34.26  ...         3.5990            176500.0\n",
            "2       -117.81     33.78  ...         5.7934            270500.0\n",
            "3       -118.36     33.82  ...         6.1359            330000.0\n",
            "4       -119.67     36.33  ...         2.9375             81700.0\n",
            "...         ...       ...  ...            ...                 ...\n",
            "2995    -119.86     34.42  ...         1.1790            225000.0\n",
            "2996    -118.14     34.06  ...         3.3906            237200.0\n",
            "2997    -119.70     36.30  ...         2.2895             62000.0\n",
            "2998    -117.12     34.10  ...         3.2708            162500.0\n",
            "2999    -119.63     34.42  ...         8.5608            500001.0\n",
            "\n",
            "[3000 rows x 9 columns]\n",
            "<class 'pandas.core.frame.DataFrame'>\n",
            "longitude             float64\n",
            "latitude              float64\n",
            "housing_median_age    float64\n",
            "total_rooms           float64\n",
            "total_bedrooms        float64\n",
            "population            float64\n",
            "households            float64\n",
            "median_income         float64\n",
            "median_house_value    float64\n",
            "dtype: object\n"
          ]
        }
      ]
    },
    {
      "cell_type": "markdown",
      "metadata": {
        "id": "nFOiWNtyYW2B"
      },
      "source": [
        ""
      ]
    },
    {
      "cell_type": "markdown",
      "metadata": {
        "id": "mHFEJMgfYWqU"
      },
      "source": [
        ""
      ]
    },
    {
      "cell_type": "markdown",
      "metadata": {
        "id": "t_qduvugYXDh"
      },
      "source": [
        ""
      ]
    },
    {
      "cell_type": "markdown",
      "metadata": {
        "id": "DpZ-ePt4YWoY"
      },
      "source": [
        ""
      ]
    },
    {
      "cell_type": "markdown",
      "metadata": {
        "id": "A3j6llLdYWmE"
      },
      "source": [
        ""
      ]
    },
    {
      "cell_type": "markdown",
      "metadata": {
        "id": "HQy4mufhYWcN"
      },
      "source": [
        ""
      ]
    },
    {
      "cell_type": "markdown",
      "metadata": {
        "id": "9XDkUbPLYWaT"
      },
      "source": [
        ""
      ]
    },
    {
      "cell_type": "markdown",
      "metadata": {
        "id": "kp0Ua0tnZkUx"
      },
      "source": [
        "Pandas Dataframe과 Database 개념  \n",
        "\n",
        "Pandas의 Dataframe은 관계형 데이터베이스의 Table 개념과 많이 닮아 있다.  \n",
        "\n",
        "---\n",
        "\n",
        "세로, 열을 column이라 하고,  \n",
        "가로, 행을 row라 한다.\n",
        "\n"
      ]
    },
    {
      "cell_type": "code",
      "metadata": {
        "id": "kqn_i4UMcaz-"
      },
      "source": [
        "# 각 컬럼의 type 출력\n",
        "print(df.dtypes)"
      ],
      "execution_count": null,
      "outputs": []
    }
  ]
}